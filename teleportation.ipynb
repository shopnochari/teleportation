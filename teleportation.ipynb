{
 "cells": [
  {
   "cell_type": "markdown",
   "id": "5932927f-af37-4e92-93f6-1199cebf718d",
   "metadata": {},
   "source": [
    "The codes an examples mentioned belows are taken from [**IBM Qiskit / Teleportation**](https://qiskit.org/textbook/ch-algorithms/teleportation.html#4.-Understanding-Quantum-Teleportation-) and the other refferences mention in **Reference Pages**. We can simulate quantum  teleportation using Qiskit, we will use Qiskits  simulator to test our circuit than run it on  real quantum computer. Our circuit will teleport the quantum state of a qubit to another qubit.\n"
   ]
  },
  {
   "cell_type": "markdown",
   "id": "44fb72e6-e0c9-42c0-84cd-d18869acc30a",
   "metadata": {},
   "source": [
    "# Part 1 : Setting up the Protocol :\n",
    "##Imports and authentication :\n",
    "We Begin with loading the **Qiskit Simulator(IBM)**  and provide authentication information as bellow :"
   ]
  },
  {
   "cell_type": "code",
   "execution_count": 52,
   "id": "b5dddbbd-150b-4c87-a21d-216061b87df0",
   "metadata": {},
   "outputs": [
    {
     "name": "stderr",
     "output_type": "stream",
     "text": [
      "configrc.store_credentials:WARNING:2021-10-21 23:37:46,536: Credentials already present. Set overwrite=True to overwrite.\n",
      "ibmqfactory.load_account:WARNING:2021-10-21 23:37:47,773: Credentials are already in use. The existing account in the session will be replaced.\n"
     ]
    }
   ],
   "source": [
    "# Importing standard Qiskit libraries\n",
    "from qiskit import QuantumCircuit, transpile, Aer, IBMQ\n",
    "from qiskit.tools.jupyter import *\n",
    "from qiskit.visualization import *\n",
    "from qiskit.providers.aer import QasmSimulator\n",
    "from qiskit import IBMQ\n",
    # "IBMQ.save_account('972d8d1fbe0499640c9d1e9ebfd18fe99f8b6329199e478024196160cc0fec5aeb9916dd810d5ae665f3fa1502529657c5e178b6171193894b33b865e25f42f1')\n",
    # "provider = IBMQ.load_account()\n",
    " IBMQ.load_account()\n",
    " provider = IBMQ.get_provider(hub='ibm-q')"
   ]
  },
  {
   "cell_type": "markdown",
   "id": "85dc3479-d176-4966-b55b-621f6e8fe64b",
   "metadata": {},
   "source": [
    "The create the circuit , we also use  the additional and  necessary  imports  as follows: "
   ]
  },
  {
   "cell_type": "code",
   "execution_count": 3,
   "id": "cc81194b-c72a-4f00-979d-595bf1e9ddb1",
   "metadata": {},
   "outputs": [],
   "source": [
    "import numpy as np\n",
    "from qiskit import QuantumCircuit, QuantumRegister, ClassicalRegister\n",
    "from qiskit import  transpile, assemble\n",
    "from qiskit.visualization import plot_histogram, plot_bloch_multivector, array_to_latex\n",
    "from qiskit.extensions import Initialize\n",
    "from qiskit.ignis.verification import marginal_counts\n",
    "from qiskit.quantum_info import random_statevector"
   ]
  },
  {
   "cell_type": "markdown",
   "id": "cbb0c17b-c40b-4a71-a43e-81105c092846",
   "metadata": {},
   "source": [
    "Using  3 qubits and 2 classical bits in 2 different registers "
   ]
  },
  {
   "cell_type": "code",
   "execution_count": 4,
   "id": "c4a89e83-ed1d-4cc3-96e7-02b080dfca29",
   "metadata": {},
   "outputs": [],
   "source": [
    "qr = QuantumRegister(3, name=\"q\")    \n",
    "crz = ClassicalRegister(1, name=\"crz\") \n",
    "crx = ClassicalRegister(1, name=\"crx\") \n",
    "teleportation_circuit = QuantumCircuit(qr, crz, crx)"
   ]
  },
  {
   "cell_type": "markdown",
   "id": "b7a77f22-4ab7-4a22-b838-92eeee614261",
   "metadata": {},
   "source": [
    " To create a Bell pair between two qubits is to first transfer one of them to the X-basis (|+>⟩ and (|->) using a Hadamard gate, and then to apply a CNOT gate onto the other qubit controlled by the one in the X-basis."
   ]
  },
  {
   "cell_type": "code",
   "execution_count": 5,
   "id": "f180512f-9a3d-48c5-97f2-d80780a7f4f4",
   "metadata": {},
   "outputs": [],
   "source": [
    "def create_bell_pair(qc, a, b):\n",
    "    \"\"\"Creates a bell pair in qc using qubits a & b\"\"\"\n",
    "    qc.h(a) \n",
    "    qc.cx(a,b)"
   ]
  },
  {
   "cell_type": "markdown",
   "id": "2d5cf072-3951-4d29-a602-85f8b327ce79",
   "metadata": {},
   "source": [
    "Using  3 qubits and 2 classical bits in 2 different registers"
   ]
  },
  {
   "cell_type": "code",
   "execution_count": 6,
   "id": "b7a508d3-1986-4a12-acd5-26270d913ef6",
   "metadata": {},
   "outputs": [],
   "source": [
    "qr = QuantumRegister(3, name=\"q\")\n",
    "crz, crx = ClassicalRegister(1, name=\"crz\"), ClassicalRegister(1, name=\"crx\")\n",
    "teleportation_circuit = QuantumCircuit(qr, crz, crx)"
   ]
  },
  {
   "cell_type": "markdown",
   "id": "523aed0e-2de3-4f4a-bdee-1c7c4fb4bb21",
   "metadata": {},
   "source": [
    "Entangles qubits q1 and q2 and  view the circuit so far:\n"
   ]
  },
  {
   "cell_type": "code",
   "execution_count": 7,
   "id": "4d6d9513-2f26-420a-ad48-623d3af0afd5",
   "metadata": {},
   "outputs": [
    {
     "data": {
      "text/html": [
       "<pre style=\"word-wrap: normal;white-space: pre;background: #fff0;line-height: 1.1;font-family: &quot;Courier New&quot;,Courier,monospace\">                 \n",
       "  q_0: ──────────\n",
       "       ┌───┐     \n",
       "  q_1: ┤ H ├──■──\n",
       "       └───┘┌─┴─┐\n",
       "  q_2: ─────┤ X ├\n",
       "            └───┘\n",
       "crz: 1/══════════\n",
       "                 \n",
       "crx: 1/══════════\n",
       "                 </pre>"
      ],
      "text/plain": [
       "                 \n",
       "  q_0: ──────────\n",
       "       ┌───┐     \n",
       "  q_1: ┤ H ├──■──\n",
       "       └───┘┌─┴─┐\n",
       "  q_2: ─────┤ X ├\n",
       "            └───┘\n",
       "crz: 1/══════════\n",
       "                 \n",
       "crx: 1/══════════\n",
       "                 "
      ]
     },
     "execution_count": 7,
     "metadata": {},
     "output_type": "execute_result"
    }
   ],
   "source": [
    "create_bell_pair(teleportation_circuit, 1, 2)\n",
    "teleportation_circuit.draw()"
   ]
  },
  {
   "cell_type": "markdown",
   "id": "21428a83-db22-4c17-ab5a-ad2a7945b537",
   "metadata": {},
   "source": [
    "Lets assume that Alice has got q1 and Bob got q2 before the depart from each other."
   ]
  },
  {
   "cell_type": "markdown",
   "id": "ff953fd5-0958-4ded-bfc3-ce98ec091fa1",
   "metadata": {},
   "source": [
    "lice applies a CNOT gate to q1  controlled by |ψ⟩(the qubit she is trying to send Bob). Then Alice applies a Hadamard gate to |ψ⟩ .In our quantum circuit, the qubit |ψ⟩  Alice is trying to send is q0."
   ]
  },
  {
   "cell_type": "code",
   "execution_count": 8,
   "id": "613adf5e-62f2-462e-9cf3-59989a9e9cf9",
   "metadata": {},
   "outputs": [],
   "source": [
    "def alice_gates(qc, psi, a):\n",
    "    qc.cx(psi, a)\n",
    "    qc.h(psi)"
   ]
  },
  {
   "cell_type": "markdown",
   "id": "68034f02-b87f-4116-9d42-4874f8746499",
   "metadata": {},
   "source": [
    "Using 3 qubits and 2 classical bits in 2 different registers:"
   ]
  },
  {
   "cell_type": "code",
   "execution_count": 9,
   "id": "8bafd4c8-c79b-48bf-9dd8-697f395be07f",
   "metadata": {},
   "outputs": [],
   "source": [
    "qr = QuantumRegister(3, name=\"q\")\n",
    "crz, crx = ClassicalRegister(1, name=\"crz\"), ClassicalRegister(1, name=\"crx\")\n",
    "teleportation_circuit = QuantumCircuit(qr, crz, crx)"
   ]
  },
  {
   "cell_type": "markdown",
   "id": "499f2dd0-c47d-4554-8d7b-cf68d90fba72",
   "metadata": {},
   "source": [
    "Step 1: Creating Bell pairs:"
   ]
  },
  {
   "cell_type": "code",
   "execution_count": 10,
   "id": "ce420487-8ec7-4613-a07d-46f33d0141af",
   "metadata": {},
   "outputs": [],
   "source": [
    "create_bell_pair(teleportation_circuit, 1, 2)\n"
   ]
  },
  {
   "cell_type": "markdown",
   "id": "f1e87d8d-3655-43a2-b499-8a279c0f0568",
   "metadata": {},
   "source": [
    "Step 2 : Use barrier to separate steps, it will make it easier to understand the circuit.\n",
    "Visualize the progress . "
   ]
  },
  {
   "cell_type": "code",
   "execution_count": 11,
   "id": "ba3b8abe-7999-4897-9f16-0ffe09b74366",
   "metadata": {},
   "outputs": [
    {
     "data": {
      "text/html": [
       "<pre style=\"word-wrap: normal;white-space: pre;background: #fff0;line-height: 1.1;font-family: &quot;Courier New&quot;,Courier,monospace\">                  ░      ┌───┐\n",
       "  q_0: ───────────░───■──┤ H ├\n",
       "       ┌───┐      ░ ┌─┴─┐└───┘\n",
       "  q_1: ┤ H ├──■───░─┤ X ├─────\n",
       "       └───┘┌─┴─┐ ░ └───┘     \n",
       "  q_2: ─────┤ X ├─░───────────\n",
       "            └───┘ ░           \n",
       "crz: 1/═══════════════════════\n",
       "                              \n",
       "crx: 1/═══════════════════════\n",
       "                              </pre>"
      ],
      "text/plain": [
       "                  ░      ┌───┐\n",
       "  q_0: ───────────░───■──┤ H ├\n",
       "       ┌───┐      ░ ┌─┴─┐└───┘\n",
       "  q_1: ┤ H ├──■───░─┤ X ├─────\n",
       "       └───┘┌─┴─┐ ░ └───┘     \n",
       "  q_2: ─────┤ X ├─░───────────\n",
       "            └───┘ ░           \n",
       "crz: 1/═══════════════════════\n",
       "                              \n",
       "crx: 1/═══════════════════════\n",
       "                              "
      ]
     },
     "execution_count": 11,
     "metadata": {},
     "output_type": "execute_result"
    }
   ],
   "source": [
    "teleportation_circuit.barrier() \n",
    "alice_gates(teleportation_circuit, 0, 1)\n",
    "teleportation_circuit.draw()"
   ]
  },
  {
   "cell_type": "markdown",
   "id": "81c3e67f-5d2a-43e8-b29e-cfd1aabdff4f",
   "metadata": {},
   "source": [
    "Step 3 Alice applies a measurement to both qubits q1 and  |ψ⟩ that she owns and d stores this result in two classical bits. She then sends these two bits to Bob."
   ]
  },
  {
   "cell_type": "code",
   "execution_count": 12,
   "id": "cdc12f85-76c1-44cf-a3b9-94b704abe644",
   "metadata": {},
   "outputs": [],
   "source": [
    "def measure_and_send(qc, a, b):\n",
    "    \"\"\"Measures qubits a & b and 'sends' the results to Bob\"\"\"\n",
    "    qc.barrier()\n",
    "    qc.measure(a,0)\n",
    "    qc.measure(b,1)"
   ]
  },
  {
   "cell_type": "markdown",
   "id": "84211f48-670c-4ff8-b256-1f0f2072ed05",
   "metadata": {},
   "source": [
    " Use barrier to separate steps.Measure and draw the circuit."
   ]
  },
  {
   "cell_type": "code",
   "execution_count": 13,
   "id": "195248d7-de44-4392-bbdf-46ec9f514e3e",
   "metadata": {},
   "outputs": [
    {
     "data": {
      "text/html": [
       "<pre style=\"word-wrap: normal;white-space: pre;background: #fff0;line-height: 1.1;font-family: &quot;Courier New&quot;,Courier,monospace\">                  ░      ┌───┐ ░ ┌─┐   \n",
       "  q_0: ───────────░───■──┤ H ├─░─┤M├───\n",
       "       ┌───┐      ░ ┌─┴─┐└───┘ ░ └╥┘┌─┐\n",
       "  q_1: ┤ H ├──■───░─┤ X ├──────░──╫─┤M├\n",
       "       └───┘┌─┴─┐ ░ └───┘      ░  ║ └╥┘\n",
       "  q_2: ─────┤ X ├─░────────────░──╫──╫─\n",
       "            └───┘ ░            ░  ║  ║ \n",
       "crz: 1/═══════════════════════════╩══╬═\n",
       "                                  0  ║ \n",
       "                                     ║ \n",
       "crx: 1/══════════════════════════════╩═\n",
       "                                     0 </pre>"
      ],
      "text/plain": [
       "                  ░      ┌───┐ ░ ┌─┐   \n",
       "  q_0: ───────────░───■──┤ H ├─░─┤M├───\n",
       "       ┌───┐      ░ ┌─┴─┐└───┘ ░ └╥┘┌─┐\n",
       "  q_1: ┤ H ├──■───░─┤ X ├──────░──╫─┤M├\n",
       "       └───┘┌─┴─┐ ░ └───┘      ░  ║ └╥┘\n",
       "  q_2: ─────┤ X ├─░────────────░──╫──╫─\n",
       "            └───┘ ░            ░  ║  ║ \n",
       "crz: 1/═══════════════════════════╩══╬═\n",
       "                                  0  ║ \n",
       "                                     ║ \n",
       "crx: 1/══════════════════════════════╩═\n",
       "                                     0 "
      ]
     },
     "execution_count": 13,
     "metadata": {},
     "output_type": "execute_result"
    }
   ],
   "source": [
    "measure_and_send(teleportation_circuit, 0 ,1)\n",
    "teleportation_circuit.draw()\n"
   ]
  },
  {
   "cell_type": "markdown",
   "id": "3e1a5bb1-be8c-4ac6-8fe0-665802c4d06a",
   "metadata": {},
   "source": [
    "Bob, who already has the qubit q2, then applies the following gates depending on the state of the classical bits: \n",
    "00  →  Do nothing .\\\n",
    "01  →  Apply X gate.\\\n",
    "10  →  Apply Z  gate\\\n",
    "11  →  Apply ZX gate.\\\n",
    "This function takes a QuantumCircuit (qc), integer (qubit) and ClassicalRegisters (crz & crx) to decide which gates to apply\n",
    "\n",
    "Here we use c_if to control our gates with a classical bit instead of a qubit. \n",
    "Apply gates if the registers are in state 1.\n"
   ]
  },
  {
   "cell_type": "code",
   "execution_count": 15,
   "id": "3b54f482-275a-48e9-a723-0ee0cffdb578",
   "metadata": {},
   "outputs": [],
   "source": [
    "def bob_gates(qc, qubit, crz, crx):\n",
    "    \n",
    "    qc.x(qubit).c_if(crx, 1)  \n",
    "    qc.z(qubit).c_if(crz, 1) "
   ]
  },
  {
   "cell_type": "markdown",
   "id": "1026861b-dbfb-4d9d-9b43-80f5d1909d02",
   "metadata": {},
   "source": [
    "Using  3 qubits and 2 classical bits in 2 different registers\n"
   ]
  },
  {
   "cell_type": "code",
   "execution_count": 16,
   "id": "8e48fe70-c558-4437-a77c-0d850388c93d",
   "metadata": {},
   "outputs": [],
   "source": [
    "qr = QuantumRegister(3, name=\"q\")\n",
    "crz, crx = ClassicalRegister(1, name=\"crz\"), ClassicalRegister(1, name=\"crx\")\n",
    "teleportation_circuit = QuantumCircuit(qr, crz, crx)\n",
    "\n"
   ]
  },
  {
   "cell_type": "markdown",
   "id": "578a09f8-db9e-4922-aeb5-83d8b6c237a5",
   "metadata": {},
   "source": [
    "STEP 1, create bell pair \n"
   ]
  },
  {
   "cell_type": "code",
   "execution_count": 17,
   "id": "96e97fd9-2e94-4d17-bb15-66bcabc5c842",
   "metadata": {},
   "outputs": [],
   "source": [
    "\n",
    "create_bell_pair(teleportation_circuit, 1, 2)\n"
   ]
  },
  {
   "cell_type": "markdown",
   "id": "46c76e70-9f28-48ba-9394-def2ca8d0c52",
   "metadata": {},
   "source": [
    "Step 2:  Use barrier to separate steps\n"
   ]
  },
  {
   "cell_type": "code",
   "execution_count": 18,
   "id": "4fd16c6f-fe9d-4ae8-a61b-0bf15a8b4809",
   "metadata": {},
   "outputs": [],
   "source": [
    "teleportation_circuit.barrier() \n",
    "alice_gates(teleportation_circuit, 0, 1)\n",
    "\n"
   ]
  },
  {
   "cell_type": "markdown",
   "id": "823cbdcc-a74c-481a-9631-57f1614afeea",
   "metadata": {},
   "source": [
    "STEP 3 : Measurement and send "
   ]
  },
  {
   "cell_type": "code",
   "execution_count": 19,
   "id": "b3fb8b23-a747-41d0-b272-c764f3e2f3b3",
   "metadata": {},
   "outputs": [],
   "source": [
    "measure_and_send(teleportation_circuit, 0, 1)\n",
    "\n"
   ]
  },
  {
   "cell_type": "markdown",
   "id": "14ce091c-f3b0-4d36-9a63-10efdbb474c3",
   "metadata": {},
   "source": [
    "STEP 4 : Use barrier to separate steps\n"
   ]
  },
  {
   "cell_type": "code",
   "execution_count": 20,
   "id": "af6328fe-78d6-4b58-8fcc-613cabe3e065",
   "metadata": {},
   "outputs": [
    {
     "data": {
      "text/html": [
       "<pre style=\"word-wrap: normal;white-space: pre;background: #fff0;line-height: 1.1;font-family: &quot;Courier New&quot;,Courier,monospace\">                  ░      ┌───┐ ░ ┌─┐    ░               \n",
       "  q_0: ───────────░───■──┤ H ├─░─┤M├────░───────────────\n",
       "       ┌───┐      ░ ┌─┴─┐└───┘ ░ └╥┘┌─┐ ░               \n",
       "  q_1: ┤ H ├──■───░─┤ X ├──────░──╫─┤M├─░───────────────\n",
       "       └───┘┌─┴─┐ ░ └───┘      ░  ║ └╥┘ ░  ┌───┐  ┌───┐ \n",
       "  q_2: ─────┤ X ├─░────────────░──╫──╫──░──┤ X ├──┤ Z ├─\n",
       "            └───┘ ░            ░  ║  ║  ░  └─╥─┘  └─╥─┘ \n",
       "                                  ║  ║       ║   ┌──╨──┐\n",
       "crz: 1/═══════════════════════════╩══╬═══════╬═══╡ = 1 ╞\n",
       "                                  0  ║    ┌──╨──┐└─────┘\n",
       "crx: 1/══════════════════════════════╩════╡ = 1 ╞═══════\n",
       "                                     0    └─────┘       </pre>"
      ],
      "text/plain": [
       "                  ░      ┌───┐ ░ ┌─┐    ░               \n",
       "  q_0: ───────────░───■──┤ H ├─░─┤M├────░───────────────\n",
       "       ┌───┐      ░ ┌─┴─┐└───┘ ░ └╥┘┌─┐ ░               \n",
       "  q_1: ┤ H ├──■───░─┤ X ├──────░──╫─┤M├─░───────────────\n",
       "       └───┘┌─┴─┐ ░ └───┘      ░  ║ └╥┘ ░  ┌───┐  ┌───┐ \n",
       "  q_2: ─────┤ X ├─░────────────░──╫──╫──░──┤ X ├──┤ Z ├─\n",
       "            └───┘ ░            ░  ║  ║  ░  └─╥─┘  └─╥─┘ \n",
       "                                  ║  ║       ║   ┌──╨──┐\n",
       "crz: 1/═══════════════════════════╩══╬═══════╬═══╡ = 1 ╞\n",
       "                                  0  ║    ┌──╨──┐└─────┘\n",
       "crx: 1/══════════════════════════════╩════╡ = 1 ╞═══════\n",
       "                                     0    └─────┘       "
      ]
     },
     "execution_count": 20,
     "metadata": {},
     "output_type": "execute_result"
    }
   ],
   "source": [
    "teleportation_circuit.barrier() \n",
    "bob_gates(teleportation_circuit, 2, crz, crx)\n",
    "teleportation_circuit.draw()"
   ]
  },
  {
   "cell_type": "markdown",
   "id": "52e43c9e-d06a-4103-b4b9-e959e5437690",
   "metadata": {},
   "source": [
    "At the end of this protocole Alices Qubit (q0) has been Teleported to Bob (q2)  successfully. "
   ]
  },
  {
   "cell_type": "markdown",
   "id": "a722e706-26fa-4250-805c-6d371afa5dcd",
   "metadata": {},
   "source": [
    "# Part 2  : Testing the Protocol in Qiskit simulator \n"
   ]
  },
  {
   "cell_type": "markdown",
   "id": "3f8c17b5-c80a-4b3a-95a3-0ebfea1d356a",
   "metadata": {},
   "source": [
    "In this notebook, we will initialize Alice's qubit in a random state $ \\vert\\psi\\rangle $ (`psi`). This state will be created using an `Initialize` gate on $|q_0\\rangle$. In this chapter we use the function `random_statevector` to choose `psi` for us, but feel free to set `psi` to any qubit state you want."
   ]
  },
  {
   "cell_type": "markdown",
   "id": "9e5d4fe8-9be4-4d3c-9da9-5f6e07b08a2b",
   "metadata": {},
   "source": [
    "Now , We will create a rndom 1-qubit state and plot it on a block sphere "
   ]
  },
  {
   "cell_type": "code",
   "execution_count": 21,
   "id": "7adef535-17e2-4a84-ad5e-4af11bfc1dc0",
   "metadata": {},
   "outputs": [
    {
     "data": {
      "text/latex": [
       "$$\n",
       "|\\psi\\rangle =\n",
       "\\begin{bmatrix}\n",
       "-0.68561 + 0.70898i & 0.15957 - 0.04272i  \\\\\n",
       " \\end{bmatrix}\n",
       "$$"
      ],
      "text/plain": [
       "<IPython.core.display.Latex object>"
      ]
     },
     "metadata": {},
     "output_type": "display_data"
    },
    {
     "data": {
      "image/png": "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\n",
      "text/plain": [
       "<Figure size 288x288 with 1 Axes>"
      ]
     },
     "execution_count": 21,
     "metadata": {},
     "output_type": "execute_result"
    }
   ],
   "source": [
    "psi = random_statevector(2)\n",
    "display(array_to_latex(psi, prefix=\"|\\\\psi\\\\rangle =\"))\n",
    "plot_bloch_multivector(psi)"
   ]
  },
  {
   "cell_type": "markdown",
   "id": "570854e5-1889-48d5-8654-bfa90b52a405",
   "metadata": {},
   "source": [
    "Let's create our initialization instruction to create $|\\psi\\rangle$ from the state $|0\\rangle$:"
   ]
  },
  {
   "cell_type": "code",
   "execution_count": 22,
   "id": "905ca384-dfac-4b84-8b57-ff77958fd64e",
   "metadata": {},
   "outputs": [],
   "source": [
    "init_gate = Initialize(psi)\n",
    "init_gate.label = \"init\""
   ]
  },
  {
   "cell_type": "markdown",
   "id": "e5846087-399d-4ed7-8363-396c3f827ba8",
   "metadata": {},
   "source": [
    "(`Initialize` is technically not a gate since it contains a reset operation, and so is not reversible. We call it an 'instruction' instead). If the quantum teleportation circuit works, then at the end of the circuit the qubit $|q_2\\rangle$ will be in this state. We will check this using the statevector simulator."
   ]
  },
  {
   "cell_type": "markdown",
   "id": "b104ff0b-9d76-4c15-afdd-97895b289f8a",
   "metadata": {
    "jp-MarkdownHeadingCollapsed": true,
    "tags": []
   },
   "source": [
    " Using the Simulated Statevector We can use the Aer simulator to verify our qubit has been teleported."
   ]
  },
  {
   "cell_type": "markdown",
   "id": "330f69af-101c-4378-9026-c216975efaa8",
   "metadata": {},
   "source": [
    "Following Protocol using 3 qubits and  and 2 classical registers"
   ]
  },
  {
   "cell_type": "code",
   "execution_count": 23,
   "id": "3554880e-7596-47f7-93dc-bb5b04e2f1a7",
   "metadata": {},
   "outputs": [],
   "source": [
    "\n",
    "qr = QuantumRegister(3, name=\"q\")   \n",
    "crz = ClassicalRegister(1, name=\"crz\") \n",
    "crx = ClassicalRegister(1, name=\"crx\")\n",
    "qc = QuantumCircuit(qr, crz, crx)\n"
   ]
  },
  {
   "cell_type": "markdown",
   "id": "0ab205a3-1181-4374-bc0d-a4d0c5effee8",
   "metadata": {},
   "source": [
    "First, let's initialize Alice's q0\n"
   ]
  },
  {
   "cell_type": "code",
   "execution_count": 24,
   "id": "616c0c66-434b-4ad1-83c5-6f7eca7a7938",
   "metadata": {},
   "outputs": [
    {
     "data": {
      "text/plain": [
       "<qiskit.circuit.instructionset.InstructionSet at 0xffff74a654f0>"
      ]
     },
     "execution_count": 24,
     "metadata": {},
     "output_type": "execute_result"
    }
   ],
   "source": [
    "qc.append(init_gate, [0])\n",
    "qc.barrier()\n"
   ]
  },
  {
   "cell_type": "markdown",
   "id": "ef252373-5367-43da-b3c0-bdb84a1319a2",
   "metadata": {},
   "source": [
    "Now  we can begins the teleportation protocol\n",
    "\n"
   ]
  },
  {
   "cell_type": "code",
   "execution_count": 25,
   "id": "3500b8e0-6755-4992-82a7-7cf750ab3f7d",
   "metadata": {},
   "outputs": [
    {
     "data": {
      "text/plain": [
       "<qiskit.circuit.instructionset.InstructionSet at 0xffff74f12610>"
      ]
     },
     "execution_count": 25,
     "metadata": {},
     "output_type": "execute_result"
    }
   ],
   "source": [
    "create_bell_pair(qc, 1, 2)\n",
    "qc.barrier()\n"
   ]
  },
  {
   "cell_type": "markdown",
   "id": "d98edf7f-85c0-420c-87c0-99169ab8c9b1",
   "metadata": {
    "tags": []
   },
   "source": [
    "Lets  Send q1 to Alice and q2 to Bob"
   ]
  },
  {
   "cell_type": "code",
   "execution_count": 26,
   "id": "60c5f668-fba9-4269-8f6d-bfba28d8ff84",
   "metadata": {},
   "outputs": [],
   "source": [
    "alice_gates(qc, 0, 1)\n"
   ]
  },
  {
   "cell_type": "markdown",
   "id": "60687583-77f5-4b50-a627-79e4ea686d69",
   "metadata": {},
   "source": [
    "Alice then sends her classical bits to Bob\n",
    "\n"
   ]
  },
  {
   "cell_type": "code",
   "execution_count": 27,
   "id": "76145833-36a8-4908-bd74-baa5d0e06011",
   "metadata": {},
   "outputs": [],
   "source": [
    "measure_and_send(qc, 0, 1)\n"
   ]
  },
  {
   "cell_type": "markdown",
   "id": "f91a4855-3c2f-482b-805c-08a2da2d6650",
   "metadata": {},
   "source": [
    "Bob now decodes hisqubits"
   ]
  },
  {
   "cell_type": "code",
   "execution_count": 28,
   "id": "e004d45c-2f38-4c85-b6f7-06bcf61aa2ac",
   "metadata": {},
   "outputs": [],
   "source": [
    "bob_gates(qc, 2, crz, crx)"
   ]
  },
  {
   "cell_type": "markdown",
   "id": "8c606c06-2c9f-457d-ba3b-182371f44773",
   "metadata": {},
   "source": [
    "Lets Display the circuit\n"
   ]
  },
  {
   "cell_type": "code",
   "execution_count": 29,
   "id": "ff470c0b-04d3-4046-903e-353b7323ca2a",
   "metadata": {},
   "outputs": [
    {
     "data": {
      "text/html": [
       "<pre style=\"word-wrap: normal;white-space: pre;background: #fff0;line-height: 1.1;font-family: &quot;Courier New&quot;,Courier,monospace\">       ┌───────────────────────────────────────────┐ ░            ░      ┌───┐»\n",
       "  q_0: ┤ init(-0.68561+0.70898j,0.15957-0.042719j) ├─░────────────░───■──┤ H ├»\n",
       "       └───────────────────────────────────────────┘ ░ ┌───┐      ░ ┌─┴─┐└───┘»\n",
       "  q_1: ──────────────────────────────────────────────░─┤ H ├──■───░─┤ X ├─────»\n",
       "                                                     ░ └───┘┌─┴─┐ ░ └───┘     »\n",
       "  q_2: ──────────────────────────────────────────────░──────┤ X ├─░───────────»\n",
       "                                                     ░      └───┘ ░           »\n",
       "crz: 1/═══════════════════════════════════════════════════════════════════════»\n",
       "                                                                              »\n",
       "crx: 1/═══════════════════════════════════════════════════════════════════════»\n",
       "                                                                              »\n",
       "«        ░ ┌─┐                 \n",
       "«  q_0: ─░─┤M├─────────────────\n",
       "«        ░ └╥┘┌─┐              \n",
       "«  q_1: ─░──╫─┤M├──────────────\n",
       "«        ░  ║ └╥┘ ┌───┐  ┌───┐ \n",
       "«  q_2: ─░──╫──╫──┤ X ├──┤ Z ├─\n",
       "«        ░  ║  ║  └─╥─┘  └─╥─┘ \n",
       "«           ║  ║    ║   ┌──╨──┐\n",
       "«crz: 1/════╩══╬════╬═══╡ = 1 ╞\n",
       "«           0  ║ ┌──╨──┐└─────┘\n",
       "«crx: 1/═══════╩═╡ = 1 ╞═══════\n",
       "«              0 └─────┘       </pre>"
      ],
      "text/plain": [
       "       ┌───────────────────────────────────────────┐ ░            ░      ┌───┐»\n",
       "  q_0: ┤ init(-0.68561+0.70898j,0.15957-0.042719j) ├─░────────────░───■──┤ H ├»\n",
       "       └───────────────────────────────────────────┘ ░ ┌───┐      ░ ┌─┴─┐└───┘»\n",
       "  q_1: ──────────────────────────────────────────────░─┤ H ├──■───░─┤ X ├─────»\n",
       "                                                     ░ └───┘┌─┴─┐ ░ └───┘     »\n",
       "  q_2: ──────────────────────────────────────────────░──────┤ X ├─░───────────»\n",
       "                                                     ░      └───┘ ░           »\n",
       "crz: 1/═══════════════════════════════════════════════════════════════════════»\n",
       "                                                                              »\n",
       "crx: 1/═══════════════════════════════════════════════════════════════════════»\n",
       "                                                                              »\n",
       "«        ░ ┌─┐                 \n",
       "«  q_0: ─░─┤M├─────────────────\n",
       "«        ░ └╥┘┌─┐              \n",
       "«  q_1: ─░──╫─┤M├──────────────\n",
       "«        ░  ║ └╥┘ ┌───┐  ┌───┐ \n",
       "«  q_2: ─░──╫──╫──┤ X ├──┤ Z ├─\n",
       "«        ░  ║  ║  └─╥─┘  └─╥─┘ \n",
       "«           ║  ║    ║   ┌──╨──┐\n",
       "«crz: 1/════╩══╬════╬═══╡ = 1 ╞\n",
       "«           0  ║ ┌──╨──┐└─────┘\n",
       "«crx: 1/═══════╩═╡ = 1 ╞═══════\n",
       "«              0 └─────┘       "
      ]
     },
     "execution_count": 29,
     "metadata": {},
     "output_type": "execute_result"
    }
   ],
   "source": [
    "qc.draw()"
   ]
  },
  {
   "cell_type": "markdown",
   "id": "778c9376-8447-4144-bb22-8eaf93c01f3b",
   "metadata": {},
   "source": [
    "We can see below, using the statevector obtained from the aer simulator, that the state of $|q_2\\rangle$ is the same as the state $|\\psi\\rangle$ we created above, while the states of $|q_0\\rangle$ and $|q_1\\rangle$ have been collapsed to either $|0\\rangle$ or $|1\\rangle$. The state $|\\psi\\rangle$ has been teleported from qubit 0 to qubit 2."
   ]
  },
  {
   "cell_type": "code",
   "execution_count": 31,
   "id": "1330d4fe-a0ac-4400-88af-15d4e971d507",
   "metadata": {},
   "outputs": [
    {
     "data": {
      "image/png": "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\n",
      "text/plain": [
       "<Figure size 864x288 with 3 Axes>"
      ]
     },
     "execution_count": 31,
     "metadata": {},
     "output_type": "execute_result"
    }
   ],
   "source": [
    "sim = Aer.get_backend('aer_simulator')\n",
    "qc.save_statevector()\n",
    "out_vector = sim.run(qc).result().get_statevector()\n",
    "plot_bloch_multivector(out_vector)"
   ]
  },
  {
   "cell_type": "markdown",
   "id": "63bca574-0c69-4341-a129-996fa3a5e747",
   "metadata": {},
   "source": [
    "You can run this cell a few times to make sure. You may notice that the qubits 0 & 1 change states, but qubit 2 is always in the state $|\\psi\\rangle$."
   ]
  },
  {
   "cell_type": "markdown",
   "id": "a64705c9-1ad8-4ffa-968b-95edcfebfeec",
   "metadata": {},
   "source": [
    "# Test the protocol\n",
    "On a real quantum computer, we would not be able to sample the statevector, so if we wanted to check our teleportation circuit is working, we need to do things slightly differently. The `Initialize` instruction first performs a reset, setting our qubit to the state $|0\\rangle$. It then applies gates to turn our $|0\\rangle$ qubit into the state $|\\psi\\rangle$:\n",
    "\n",
    "$$ |0\\rangle \\xrightarrow{\\text{Initialize gates}} |\\psi\\rangle $$\n",
    "\n",
    "Since all quantum gates are **reversible**, we can find the inverse of these gates using:"
   ]
  },
  {
   "cell_type": "code",
   "execution_count": 32,
   "id": "4abd4891-607e-4955-b687-ea9c37675faf",
   "metadata": {},
   "outputs": [],
   "source": [
    "inverse_init_gate = init_gate.gates_to_uncompute()"
   ]
  },
  {
   "cell_type": "markdown",
   "id": "cd796582-bcb8-4468-a80b-f216dad5aaaf",
   "metadata": {},
   "source": [
    "This operation has the property:\n",
    "\n",
    "$$ |\\psi\\rangle \\xrightarrow{\\text{Inverse Initialize gates}} |0\\rangle $$\n",
    "\n",
    "To prove the qubit $|q_0\\rangle$ has been teleported to $|q_2\\rangle$, if we do this inverse initialization on $|q_2\\rangle$, we expect to measure $|0\\rangle$ with certainty. We do this in the circuit below:"
   ]
  },
  {
   "cell_type": "markdown",
   "id": "b24a23a8-4d72-4efa-adbb-4fc09f83b5b3",
   "metadata": {},
   "source": [
    "Protocol uses 3 qubits , and 2 classical registers (renaming crz and crx):"
   ]
  },
  {
   "cell_type": "code",
   "execution_count": 33,
   "id": "afe46646-e30d-44af-accd-9ed172d0b79c",
   "metadata": {},
   "outputs": [],
   "source": [
    "qr = QuantumRegister(3, name=\"q\")  \n",
    "crz = ClassicalRegister(1, name=\"crz\") \n",
    "crx = ClassicalRegister(1, name=\"crx\")\n",
    "qc = QuantumCircuit(qr, crz, crx)\n",
    "\n"
   ]
  },
  {
   "cell_type": "markdown",
   "id": "2e43d640-1817-4c87-af3b-de519be1a23c",
   "metadata": {},
   "source": [
    "First, let's initialize Alice's q0\n"
   ]
  },
  {
   "cell_type": "code",
   "execution_count": 34,
   "id": "ed7e4c3e-b2bb-47b1-b66e-2120ae306e6d",
   "metadata": {},
   "outputs": [
    {
     "data": {
      "text/plain": [
       "<qiskit.circuit.instructionset.InstructionSet at 0xffff6e7753d0>"
      ]
     },
     "execution_count": 34,
     "metadata": {},
     "output_type": "execute_result"
    }
   ],
   "source": [
    "qc.append(init_gate, [0])\n",
    "qc.barrier()\n"
   ]
  },
  {
   "cell_type": "markdown",
   "id": "1abe8b3b-44b5-45a6-9c7d-f2909a3acd56",
   "metadata": {},
   "source": [
    "Now begins the teleportation protocol, Create the **Bell Pair**, Send q1 to Alice and q2 to Bob ."
   ]
  },
  {
   "cell_type": "code",
   "execution_count": 35,
   "id": "b630cd5f-73cb-4eab-a71c-d45cd973b55c",
   "metadata": {},
   "outputs": [],
   "source": [
    "create_bell_pair(qc, 1, 2)\n",
    "qc.barrier()\n",
    "alice_gates(qc, 0, 1)"
   ]
  },
  {
   "cell_type": "markdown",
   "id": "e3bf99aa-014d-4d01-a1e3-002a94306b9e",
   "metadata": {},
   "source": [
    "Alice mesures her qubits and then sends her classical bits to Bob"
   ]
  },
  {
   "cell_type": "code",
   "execution_count": 36,
   "id": "6d035060-f13b-4681-92e2-f5519c239584",
   "metadata": {},
   "outputs": [],
   "source": [
    "\n",
    "measure_and_send(qc, 0, 1)\n"
   ]
  },
  {
   "cell_type": "markdown",
   "id": "0d308ad6-6680-47b1-86bd-9d0e50fcb7f4",
   "metadata": {},
   "source": [
    "Now Bob decodes qubits, following the protocol. \n"
   ]
  },
  {
   "cell_type": "code",
   "execution_count": 37,
   "id": "54a48427-4dfd-4cad-aa9b-5a34814fd1c4",
   "metadata": {},
   "outputs": [],
   "source": [
    "bob_gates(qc, 2, crz, crx)\n"
   ]
  },
  {
   "cell_type": "markdown",
   "id": "c77ce18c-fbd6-426a-9c31-10e7c5ad30a3",
   "metadata": {},
   "source": [
    "Lets reverse the initialization process\n",
    "and  Display the circuit"
   ]
  },
  {
   "cell_type": "code",
   "execution_count": 38,
   "id": "438ee7bb-7905-4159-8531-4a068190cdd1",
   "metadata": {},
   "outputs": [
    {
     "data": {
      "text/html": [
       "<pre style=\"word-wrap: normal;white-space: pre;background: #fff0;line-height: 1.1;font-family: &quot;Courier New&quot;,Courier,monospace\">       ┌───────────────────────────────────────────┐ ░            ░      ┌───┐»\n",
       "  q_0: ┤ init(-0.68561+0.70898j,0.15957-0.042719j) ├─░────────────░───■──┤ H ├»\n",
       "       └───────────────────────────────────────────┘ ░ ┌───┐      ░ ┌─┴─┐└───┘»\n",
       "  q_1: ──────────────────────────────────────────────░─┤ H ├──■───░─┤ X ├─────»\n",
       "                                                     ░ └───┘┌─┴─┐ ░ └───┘     »\n",
       "  q_2: ──────────────────────────────────────────────░──────┤ X ├─░───────────»\n",
       "                                                     ░      └───┘ ░           »\n",
       "crz: 1/═══════════════════════════════════════════════════════════════════════»\n",
       "                                                                              »\n",
       "crx: 1/═══════════════════════════════════════════════════════════════════════»\n",
       "                                                                              »\n",
       "«        ░ ┌─┐                                 \n",
       "«  q_0: ─░─┤M├─────────────────────────────────\n",
       "«        ░ └╥┘┌─┐                              \n",
       "«  q_1: ─░──╫─┤M├──────────────────────────────\n",
       "«        ░  ║ └╥┘ ┌───┐  ┌───┐ ┌──────────────┐\n",
       "«  q_2: ─░──╫──╫──┤ X ├──┤ Z ├─┤ disentangler ├\n",
       "«        ░  ║  ║  └─╥─┘  └─╥─┘ └──────────────┘\n",
       "«           ║  ║    ║   ┌──╨──┐                \n",
       "«crz: 1/════╩══╬════╬═══╡ = 1 ╞════════════════\n",
       "«           0  ║ ┌──╨──┐└─────┘                \n",
       "«crx: 1/═══════╩═╡ = 1 ╞═══════════════════════\n",
       "«              0 └─────┘                       </pre>"
      ],
      "text/plain": [
       "       ┌───────────────────────────────────────────┐ ░            ░      ┌───┐»\n",
       "  q_0: ┤ init(-0.68561+0.70898j,0.15957-0.042719j) ├─░────────────░───■──┤ H ├»\n",
       "       └───────────────────────────────────────────┘ ░ ┌───┐      ░ ┌─┴─┐└───┘»\n",
       "  q_1: ──────────────────────────────────────────────░─┤ H ├──■───░─┤ X ├─────»\n",
       "                                                     ░ └───┘┌─┴─┐ ░ └───┘     »\n",
       "  q_2: ──────────────────────────────────────────────░──────┤ X ├─░───────────»\n",
       "                                                     ░      └───┘ ░           »\n",
       "crz: 1/═══════════════════════════════════════════════════════════════════════»\n",
       "                                                                              »\n",
       "crx: 1/═══════════════════════════════════════════════════════════════════════»\n",
       "                                                                              »\n",
       "«        ░ ┌─┐                                 \n",
       "«  q_0: ─░─┤M├─────────────────────────────────\n",
       "«        ░ └╥┘┌─┐                              \n",
       "«  q_1: ─░──╫─┤M├──────────────────────────────\n",
       "«        ░  ║ └╥┘ ┌───┐  ┌───┐ ┌──────────────┐\n",
       "«  q_2: ─░──╫──╫──┤ X ├──┤ Z ├─┤ disentangler ├\n",
       "«        ░  ║  ║  └─╥─┘  └─╥─┘ └──────────────┘\n",
       "«           ║  ║    ║   ┌──╨──┐                \n",
       "«crz: 1/════╩══╬════╬═══╡ = 1 ╞════════════════\n",
       "«           0  ║ ┌──╨──┐└─────┘                \n",
       "«crx: 1/═══════╩═╡ = 1 ╞═══════════════════════\n",
       "«              0 └─────┘                       "
      ]
     },
     "execution_count": 38,
     "metadata": {},
     "output_type": "execute_result"
    }
   ],
   "source": [
    "qc.append(inverse_init_gate, [2])\n",
    "qc.draw()"
   ]
  },
  {
   "cell_type": "markdown",
   "id": "0aba0b05-369f-429d-988c-9dabf936ea16",
   "metadata": {},
   "source": [
    "We can see the `inverse_init_gate` appearing, labelled **'disentangler'** on the circuit diagram. Finally, we measure the third qubit and store the result in the third classical bit(we Need to add a new Classical Register to see the result):"
   ]
  },
  {
   "cell_type": "code",
   "execution_count": 40,
   "id": "0664c837-2c2c-410e-bcf4-bcd06e9d7bbc",
   "metadata": {},
   "outputs": [
    {
     "data": {
      "text/html": [
       "<pre style=\"word-wrap: normal;white-space: pre;background: #fff0;line-height: 1.1;font-family: &quot;Courier New&quot;,Courier,monospace\">       ┌───────────────────────────────────────────┐ ░            ░      ┌───┐»\n",
       "  q_0: ┤ init(-0.68561+0.70898j,0.15957-0.042719j) ├─░────────────░───■──┤ H ├»\n",
       "       └───────────────────────────────────────────┘ ░ ┌───┐      ░ ┌─┴─┐└───┘»\n",
       "  q_1: ──────────────────────────────────────────────░─┤ H ├──■───░─┤ X ├─────»\n",
       "                                                     ░ └───┘┌─┴─┐ ░ └───┘     »\n",
       "  q_2: ──────────────────────────────────────────────░──────┤ X ├─░───────────»\n",
       "                                                     ░      └───┘ ░           »\n",
       "crz: 1/═══════════════════════════════════════════════════════════════════════»\n",
       "                                                                              »\n",
       "crx: 1/═══════════════════════════════════════════════════════════════════════»\n",
       "                                                                              »\n",
       " c1: 1/═══════════════════════════════════════════════════════════════════════»\n",
       "                                                                              »\n",
       " c2: 1/═══════════════════════════════════════════════════════════════════════»\n",
       "                                                                              »\n",
       "«        ░ ┌─┐                                       \n",
       "«  q_0: ─░─┤M├───────────────────────────────────────\n",
       "«        ░ └╥┘┌─┐                                    \n",
       "«  q_1: ─░──╫─┤M├────────────────────────────────────\n",
       "«        ░  ║ └╥┘ ┌───┐  ┌───┐ ┌──────────────┐┌─┐┌─┐\n",
       "«  q_2: ─░──╫──╫──┤ X ├──┤ Z ├─┤ disentangler ├┤M├┤M├\n",
       "«        ░  ║  ║  └─╥─┘  └─╥─┘ └──────────────┘└╥┘└╥┘\n",
       "«           ║  ║    ║   ┌──╨──┐                 ║  ║ \n",
       "«crz: 1/════╩══╬════╬═══╡ = 1 ╞═════════════════╬══╬═\n",
       "«           0  ║ ┌──╨──┐└─────┘                 ║  ║ \n",
       "«crx: 1/═══════╩═╡ = 1 ╞════════════════════════╬══╬═\n",
       "«              0 └─────┘                        ║  ║ \n",
       "« c1: 1/════════════════════════════════════════╩══╩═\n",
       "«                                               0  0 \n",
       "« c2: 1/═════════════════════════════════════════════\n",
       "«                                                    </pre>"
      ],
      "text/plain": [
       "       ┌───────────────────────────────────────────┐ ░            ░      ┌───┐»\n",
       "  q_0: ┤ init(-0.68561+0.70898j,0.15957-0.042719j) ├─░────────────░───■──┤ H ├»\n",
       "       └───────────────────────────────────────────┘ ░ ┌───┐      ░ ┌─┴─┐└───┘»\n",
       "  q_1: ──────────────────────────────────────────────░─┤ H ├──■───░─┤ X ├─────»\n",
       "                                                     ░ └───┘┌─┴─┐ ░ └───┘     »\n",
       "  q_2: ──────────────────────────────────────────────░──────┤ X ├─░───────────»\n",
       "                                                     ░      └───┘ ░           »\n",
       "crz: 1/═══════════════════════════════════════════════════════════════════════»\n",
       "                                                                              »\n",
       "crx: 1/═══════════════════════════════════════════════════════════════════════»\n",
       "                                                                              »\n",
       " c1: 1/═══════════════════════════════════════════════════════════════════════»\n",
       "                                                                              »\n",
       " c2: 1/═══════════════════════════════════════════════════════════════════════»\n",
       "                                                                              »\n",
       "«        ░ ┌─┐                                       \n",
       "«  q_0: ─░─┤M├───────────────────────────────────────\n",
       "«        ░ └╥┘┌─┐                                    \n",
       "«  q_1: ─░──╫─┤M├────────────────────────────────────\n",
       "«        ░  ║ └╥┘ ┌───┐  ┌───┐ ┌──────────────┐┌─┐┌─┐\n",
       "«  q_2: ─░──╫──╫──┤ X ├──┤ Z ├─┤ disentangler ├┤M├┤M├\n",
       "«        ░  ║  ║  └─╥─┘  └─╥─┘ └──────────────┘└╥┘└╥┘\n",
       "«           ║  ║    ║   ┌──╨──┐                 ║  ║ \n",
       "«crz: 1/════╩══╬════╬═══╡ = 1 ╞═════════════════╬══╬═\n",
       "«           0  ║ ┌──╨──┐└─────┘                 ║  ║ \n",
       "«crx: 1/═══════╩═╡ = 1 ╞════════════════════════╬══╬═\n",
       "«              0 └─────┘                        ║  ║ \n",
       "« c1: 1/════════════════════════════════════════╩══╩═\n",
       "«                                               0  0 \n",
       "« c2: 1/═════════════════════════════════════════════\n",
       "«                                                    "
      ]
     },
     "execution_count": 40,
     "metadata": {},
     "output_type": "execute_result"
    }
   ],
   "source": [
    "cr_result = ClassicalRegister(1)\n",
    "qc.add_register(cr_result)\n",
    "qc.measure(2,2)\n",
    "qc.draw()"
   ]
  },
  {
   "cell_type": "markdown",
   "id": "ad656625-6956-4b96-b618-5bc754857f10",
   "metadata": {},
   "source": [
    "Lets  we run our experiment and plot the histogram result:"
   ]
  },
  {
   "cell_type": "code",
   "execution_count": 42,
   "id": "dc2f8be1-bb01-476c-b822-9b40cc628d56",
   "metadata": {},
   "outputs": [
    {
     "data": {
      "image/png": "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\n",
      "text/plain": [
       "<Figure size 504x360 with 1 Axes>"
      ]
     },
     "execution_count": 42,
     "metadata": {},
     "output_type": "execute_result"
    }
   ],
   "source": [
    "t_qc = transpile(qc, sim)\n",
    "t_qc.save_statevector()\n",
    "counts = sim.run(t_qc).result().get_counts()\n",
    "qubit_counts = [marginal_counts(counts, [qubit]) for qubit in range(3)]\n",
    "plot_histogram(qubit_counts)"
   ]
  },
  {
   "cell_type": "markdown",
   "id": "33bdc53f-48ff-457d-88b2-bf862eacd5be",
   "metadata": {},
   "source": [
    "We can see we have a **100%** chance of measuring $q_2$ (the purple bar in the histogram) in the state $|0\\rangle$. This is the expected result, and indicates that the teleportation protocol has worked **properly**."
   ]
  },
  {
   "cell_type": "markdown",
   "id": "dd09b03a-648a-439c-aca4-ffdf83149262",
   "metadata": {},
   "source": [
    "# Part : Execute the simulation on a real Quantum Computer :"
   ]
  },
  {
   "cell_type": "markdown",
   "id": "ba7d65ea-6481-4165-9673-20a05f4baf11",
   "metadata": {},
   "source": [
    "Let us re-write the bob_gates function to new_bob_gates:\n"
   ]
  },
  {
   "cell_type": "code",
   "execution_count": 43,
   "id": "7355f331-ad4b-447a-b251-71a56257cb0c",
   "metadata": {},
   "outputs": [],
   "source": [
    "def new_bob_gates(qc, a, b, c):\n",
    "    qc.cx(b, c)\n",
    "    qc.cz(a, c)"
   ]
  },
  {
   "cell_type": "markdown",
   "id": "c95e7213-538c-435a-884b-e29d231033b8",
   "metadata": {},
   "source": [
    "And create our new circuit:"
   ]
  },
  {
   "cell_type": "code",
   "execution_count": 44,
   "id": "232ddba6-c4e8-4624-88d8-5f3442d1c91a",
   "metadata": {},
   "outputs": [],
   "source": [
    "qc = QuantumCircuit(3,1)"
   ]
  },
  {
   "cell_type": "markdown",
   "id": "9fa7e103-e531-4372-af0b-f390b0e9019b",
   "metadata": {},
   "source": [
    "First, let's initialize Alice's q0:\n",
    "\n"
   ]
  },
  {
   "cell_type": "code",
   "execution_count": null,
   "id": "e00f0fe3-bf39-49ed-9bd4-1e02821df72c",
   "metadata": {},
   "outputs": [],
   "source": [
    "qc.append(init_gate, [0])\n",
    "qc.barrier()"
   ]
  },
  {
   "cell_type": "markdown",
   "id": "5de65b94-47a9-450a-ae26-3a6e8be8d8bb",
   "metadata": {},
   "source": [
    " Now begins the teleportation protocol:"
   ]
  },
  {
   "cell_type": "code",
   "execution_count": 45,
   "id": "fe539c48-d6a5-4fae-a7f8-6e83690dda29",
   "metadata": {},
   "outputs": [
    {
     "data": {
      "text/plain": [
       "<qiskit.circuit.instructionset.InstructionSet at 0xffff74088910>"
      ]
     },
     "execution_count": 45,
     "metadata": {},
     "output_type": "execute_result"
    }
   ],
   "source": [
    "create_bell_pair(qc, 1, 2)\n",
    "qc.barrier()"
   ]
  },
  {
   "cell_type": "markdown",
   "id": "6a2bc62b-c81c-4fd5-875f-42efac59fb6b",
   "metadata": {},
   "source": [
    "Send q1 to Alice and q2 to Bob"
   ]
  },
  {
   "cell_type": "code",
   "execution_count": 46,
   "id": "c5e460b6-8292-4d90-b6b5-c9d9e52bf6a3",
   "metadata": {},
   "outputs": [
    {
     "data": {
      "text/plain": [
       "<qiskit.circuit.instructionset.InstructionSet at 0xffff6cd7bb50>"
      ]
     },
     "execution_count": 46,
     "metadata": {},
     "output_type": "execute_result"
    }
   ],
   "source": [
    "alice_gates(qc, 0, 1)\n",
    "qc.barrier()"
   ]
  },
  {
   "cell_type": "markdown",
   "id": "23d0d676-dd2e-4d81-8f78-27910b27facd",
   "metadata": {},
   "source": [
    "Alice sends classical bits to Bob"
   ]
  },
  {
   "cell_type": "code",
   "execution_count": 47,
   "id": "b230ae59-2f62-4244-a7db-c6a111f59934",
   "metadata": {},
   "outputs": [],
   "source": [
    "new_bob_gates(qc, 0, 1, 2)"
   ]
  },
  {
   "cell_type": "markdown",
   "id": "90c449c2-8e5e-44b1-8b88-ec241c5d50f8",
   "metadata": {},
   "source": [
    "We undo the initialization process"
   ]
  },
  {
   "cell_type": "code",
   "execution_count": 48,
   "id": "e0ece02a-b3bc-47f0-ad64-725438248402",
   "metadata": {},
   "outputs": [
    {
     "data": {
      "text/plain": [
       "<qiskit.circuit.instructionset.InstructionSet at 0xffff6cd06b50>"
      ]
     },
     "execution_count": 48,
     "metadata": {},
     "output_type": "execute_result"
    }
   ],
   "source": [
    "qc.append(inverse_init_gate, [2])"
   ]
  },
  {
   "cell_type": "markdown",
   "id": "b239933b-5515-4297-8bdd-a0389de2a0b6",
   "metadata": {},
   "source": [
    "As we only care about the state of qubit 2, lets measure and see the results:"
   ]
  },
  {
   "cell_type": "code",
   "execution_count": 50,
   "id": "97e52a27-aaa6-4477-8e19-3ecd9b71bd11",
   "metadata": {},
   "outputs": [
    {
     "data": {
      "text/html": [
       "<pre style=\"word-wrap: normal;white-space: pre;background: #fff0;line-height: 1.1;font-family: &quot;Courier New&quot;,Courier,monospace\">                ░      ┌───┐ ░                               \n",
       "q_0: ───────────░───■──┤ H ├─░───────■───────────────────────\n",
       "     ┌───┐      ░ ┌─┴─┐└───┘ ░       │                       \n",
       "q_1: ┤ H ├──■───░─┤ X ├──────░───■───┼───────────────────────\n",
       "     └───┘┌─┴─┐ ░ └───┘      ░ ┌─┴─┐ │ ┌──────────────┐┌─┐┌─┐\n",
       "q_2: ─────┤ X ├─░────────────░─┤ X ├─■─┤ disentangler ├┤M├┤M├\n",
       "          └───┘ ░            ░ └───┘   └──────────────┘└╥┘└╥┘\n",
       "c: 1/═══════════════════════════════════════════════════╩══╩═\n",
       "                                                        0  0 </pre>"
      ],
      "text/plain": [
       "                ░      ┌───┐ ░                               \n",
       "q_0: ───────────░───■──┤ H ├─░───────■───────────────────────\n",
       "     ┌───┐      ░ ┌─┴─┐└───┘ ░       │                       \n",
       "q_1: ┤ H ├──■───░─┤ X ├──────░───■───┼───────────────────────\n",
       "     └───┘┌─┴─┐ ░ └───┘      ░ ┌─┴─┐ │ ┌──────────────┐┌─┐┌─┐\n",
       "q_2: ─────┤ X ├─░────────────░─┤ X ├─■─┤ disentangler ├┤M├┤M├\n",
       "          └───┘ ░            ░ └───┘   └──────────────┘└╥┘└╥┘\n",
       "c: 1/═══════════════════════════════════════════════════╩══╩═\n",
       "                                                        0  0 "
      ]
     },
     "execution_count": 50,
     "metadata": {},
     "output_type": "execute_result"
    }
   ],
   "source": [
    "qc.measure(2,0)\n",
    "qc.draw()\n",
    "\n"
   ]
  },
  {
   "cell_type": "markdown",
   "id": "6a97c246-68c6-4057-b2b7-a5f5db63b8f6",
   "metadata": {},
   "source": [
    "We have to see what devices we are **allowed** to use by loading our saved accounts.Wec an get the least-busy backend at IBM and run the quantum circuit there."
   ]
  },
  {
   "cell_type": "code",
   "execution_count": 53,
   "id": "55ef8c29-b127-4282-a943-eed4a7a05863",
   "metadata": {},
   "outputs": [
    {
     "name": "stdout",
     "output_type": "stream",
     "text": [
      "Job Status: job has successfully run\n"
     ]
    }
   ],
   "source": [
    "from qiskit.providers.ibmq import least_busy\n",
    "from qiskit.tools.monitor import job_monitor\n",
    "backend = least_busy(provider.backends(filters=lambda b: b.configuration().n_qubits >= 3 and\n",
    "                                   not b.configuration().simulator and b.status().operational==True))\n",
    "t_qc = transpile(qc, backend, optimization_level=3)\n",
    "job = backend.run(t_qc)\n",
    "job_monitor(job)  # displays job status under cell"
   ]
  },
  {
   "cell_type": "markdown",
   "id": "3ad5eb31-754a-46db-ad4e-14f70ea551e4",
   "metadata": {},
   "source": [
    "Lets get the results and display them using histogrm plot:"
   ]
  },
  {
   "cell_type": "code",
   "execution_count": 54,
   "id": "696c4ff1-b19a-4187-94a8-8893dfb81167",
   "metadata": {},
   "outputs": [
    {
     "name": "stdout",
     "output_type": "stream",
     "text": [
      "{'0': 954, '1': 70}\n"
     ]
    },
    {
     "data": {
      "image/png": "iVBORw0KGgoAAAANSUhEUgAAAc0AAAEyCAYAAACYgYvRAAAAOXRFWHRTb2Z0d2FyZQBNYXRwbG90bGliIHZlcnNpb24zLjMuNCwgaHR0cHM6Ly9tYXRwbG90bGliLm9yZy8QVMy6AAAACXBIWXMAAAsTAAALEwEAmpwYAAAhIElEQVR4nO3de5jWdZ3/8ec7JhBFSjFADi0QBwUCxNGRQnDXyLLWK81OP/OQpT+sPKyXte1v3XVrN7Wjurpmsm1ptdZuteu2idlPf0DkNOwwOQYUci1gMAooYkjCCOP798d9DzsOM/AdmSM8H9d1X9735/P5fuf99WZ48fkeIzORJEkH9pqeLkCSpL7C0JQkqSBDU5KkggxNSZIKMjQlSSrI0JQkqaCKni6gJx133HE5ZsyYni5DktSLLF++/NnMfENbfYd1aI4ZM4ba2tqeLkOS1ItExJPt9bl7VpKkggxNSZIKMjQlSSrI0JQkqSBDU5KkggxNSZIKMjQlSSrI0JQkqSBDU5KkggxNSZIKMjQlSSrI0JQkqSBDU5KkggxNSZIKMjQlSSrI0JQkqSBDU5KkggxNSZIKMjQlSSrI0JQkqSBDU5KkggxNSZIK6tbQjIg5EfEfEdEQERkRlxRY5s0RsTgidpaX++uIiFZj5kbE8ojYFRFrI2J+l23EIebBBx9k0qRJjB8/nptvvnmf/m3btnHuuecybdo0Tj31VFasWAHArl27OPXUU5k+fTpTpkzhhhtu2LvMpz71KU444QSmTZvGueeey/PPP99dmyNJXaq7Z5qDgBXA1cDOAw2OiMHAz4DNwCnAVcCngGtbjBkLPAA8CpwE3ATcHhHv7eziDzVNTU184hOfYOHChaxatYr77ruPVatWvWLMjTfeyIwZM3j88ce59957ufrqqwEYMGAAjzzyCPX19Tz22GM8+OCD/PKXvwRg3rx5rFixgscff5yJEydy0003dfu2SVJX6NbQzMwHMvP/ZOYPgJcLLHIBcCRwcWauyMwfAl8Arm0x25wPPJWZV2bmbzJzAXAPcF1XbMOhZNmyZYwfP55x48bRv39/PvjBD3L//fe/YsyqVas488wzATjhhBNYv349mzdvJiIYNGgQALt372b37t00fyVvf/vbqaioAOC0005j48aN3bhVktR1evsxzVnAzzOz5az0p8AIYEyLMQ+1Wu6nQGVEvLbLK+zDGhoaGD169N7Po0aNoqGh4RVjpk+fzo9+9COgFLJPPvnk3hBsampixowZDB06lHnz5lFVVbXPz/inf/on3vnOd3bhVkhS9+ntoTmc0q7Zlja36NvfmArguK4rre/LzH3aWh0u5jOf+Qzbtm1jxowZ3H777Zx00kl7Z5H9+vXjscceY+PGjSxbtmzv8c5mn//856moqOCCCy7ouo2QpG5U0dMFFND6b/Zoo73ImFJHxOXA5QAjRoxg0aJFAIwbN46jjz6a+vp6AIYMGcKUKVNYsmQJABUVFcyePZu6ujq2b98OQGVlJZs3b2bDhg0ATJgwgQEDBuwNj6FDhzJx4kSWLl0KlI4Dzpo1i9raWnbs2AFAVVUVGzdu3DvDmzRpEv369dt7bHH48OGMHTuW6upqAAYOHEhVVRU1NTXs3FmagM+aNYt169axadMmACZPnkxTUxOrV68GYOTIkYwaNYqamhoABg0aRGVlJdu2baO+vp5Fixbt3bZdu3axaNEipk6dSmNjI2vWrOHiiy/m+uuvZ+jQoUyYMIGNGzfS1NTEzJkzWbp0KXv27GHMmDEsXLiQzGTr1q08+OCDPPzww3znO99h8eLFAIwZM4Zjjz2Wuro6AI455himT5/O4sWLyUwigrlz51JfX8+2bdsAmDlzJs899xzr168/bL+n6upqGhsbAZg9ezZPPPEEW7ZsAXjF9wQwevRohg0bRm1tLQCDBw9+xfcEMGfOHFauXMnWrVuB0t6EF154gbVr1/o9+T35PZX72pWZPfICdgCXHGDMvcBPWrWdQikMx5Y/LwH+odWY9wG7gdfub/0nn3xyHs52796dY8eOzbVr12ZjY2NOmzYtV6xY8Yox27Zty8bGxszMvPvuu/PCCy/MzMwtW7bktm3bMjPzxRdfzNmzZ+ePf/zjzMxcuHBhnnjiiblly5bu2xhJ6iRAbbaTG719plkNfCEijsjMXeW2ecBTwPoWY97Tarl5lDZ6d3cU2VdVVFRwxx13cNZZZ9HU1MSll17KlClTuOuuuwCYP38+v/nNb7jooovo168fkydP5hvf+AYATz/9NBdffDFNTU28/PLLvP/97+fd7343AJ/85CdpbGxk3rx5QOlkoOZ1SlJfFtnGca0u+2ERg4Dx5Y+PAjcD/wE8l5m/i4ibgFMz88zy+NcBq4FFwN8BE4FvAZ/NzK+Ux4yldBnLAuDrwFuBO4EPZels23ZVVlZm8+4RSZIAImJ5Zla21dfdJwJVAr8qvwYCny2//1y5/3jgTc2DM/P3lGaNI4Ba4B+ArwBfbTFmHXA2MAd4DPhL4KoDBaYkSR3VrbtnM3MR/3OSTlv9l7TR9mtKgbi/9S4GZh5keZIk7Vdvv+REkqRew9CUJKkgQ1OSpIIMTUmSCjI0JUkqyNCUJKkgQ1OSpIIMTUmSCjI0JUkqyNCUJKmg3v6Ukz7hslt7ugJ1hQXX9HQFknobZ5qSJBVkaEqSVJChKUlSQYamJEkFGZqSJBVkaEqSVJChKUlSQYamJEkFGZqSJBVkaEqSVJChKUlSQYamJEkFGZqSJBVkaEqSVJChKUlSQYamJEkFGZqSJBVkaEqSVJChKUlSQYamJEkFGZqSJBVkaEqSVJChKUlSQYamJEkFGZqSJBVkaEqSVJChKUlSQYamJEkFGZqSJBVkaEqSVJChKUlSQYamJEkFGZqSJBVkaEqSVJChKUlSQYamJEkFGZqSJBVkaEqSVJChKUlSQd0emhHx8YhYFxG7ImJ5RJy+n7F/ExHZzmtoecwZ7fSf0H1bJUk6HFR05w+LiA8AtwEfB5aW/7swIiZn5u/aWOTLwF2t2r4HZGZuadU+BXiuxednOqdqSZJKunumeS3wrcxckJm/ycwrgaeBK9oanJk7MnNT8wt4LXA6sKCN4Vtajs3Mpi7bCknSYanbQjMi+gMnAw+16noIeEvB1XwUeB74YRt9tRHxdEQ8HBF//KoLlSSpHd25e/Y4oB+wuVX7ZuBtB1o4Il4DXArcm5mNLbqaZ6r/BfQHLgQejogzMnNJG+u5HLgcYMSIESxatAiAcePGcfTRR1NfXw/AkCFDmDJlCkuWlFZRUVHB7NmzqaurY/v27QBUVlayefNm4E2F/geob6mtrWXHjh0AVFVVsXHjRhoaGgCYNGkS/fr1Y9WqVQAMHz6csWPHUl1dDcDAgQOpqqqipqaGnTt3AjBr1izWrVvHpk2bAJg8eTJNTU2sXr0agJEjRzJq1ChqamoAGDRoEJWVlVRXV9PYWPojP3v2bJ544gm2bCkdnZg6dSqNjY2sWbMGgNGjRzNs2DBqa2sBGDx4MDNnzmTp0qXs2bMHgDlz5rBy5Uq2bt0KwPTp03nhhRdYu3YtAGPGjOHYY4+lrq4OgGOOOYbp06ezePFiMpOIYO7cudTX17Nt2zYAZs6cyXPPPcf69euBg/t92rBhAwATJkxgwIABrFixAoChQ4cyceJEli5dCsCAAQOYNWuW35PfU6d/T/sTmbnfAZ0lIkYADcCczPx5i/YbgA9l5n5P3ImIdwH/CUzNzJUHGPsAsCczz9nfuMrKymz+Q3swLrv1oFehXmjBNT1dgaSeEBHLM7Oyrb7uPKb5LNAEDG/VPpR9Z59tuRx49ECBWVYDTOhYeZIk7V+3hWZmvgQsB+a16poHPLq/Zcuz1HfR9glAbZlBabetJEmdplsvOQG+Cnw7IpYBvwDmAyMoX1YSETcBp2bmma2WuxT4A/AvrVcYEdcA64GVlI5pfhh4D/DertgASdLhq1tDMzO/HxFDgOuB44EVwNmZ+WR5yPG0OqsmIoLSWbPfzcwX21htf0rXc44EdlIKz3dl5gNdsxWSpMNVd880ycw7gTvb6bukjbYExu5nfV8EvthZ9UmS1J4OHdOMiNeUL/1o/jw8Ij4WEW/t/NIkSepdOnoi0E+AKwEiYhBQC3wJWBQRF3VybZIk9SodDc2TgUfK788DtlO6ZOQy4LpOrEuSpF6no6F5NKXb2AG8Hfi3zNxNKUi9LY4k6ZDW0dD8HfDWiDgKOAv4Wbn9WKCtM1slSTpkdPTs2a8C3wZ2AE8Czfd2nQP8uhPrkiSp1+lQaGbm1yNiOTAa+Flmvlzu+m/grzq7OEmSepMOX6eZmbWUzppt2faTTqtIkqReqsP3no2Ij0fEyoh4MSLGldv+PCLe3/nlSZLUe3T05gbXULoF3t1AtOh6Cvhk55UlSVLv09GZ5nzgssy8DdjTor0OmNJpVUmS1At1NDT/iNJN1lvbDQw8+HIkSeq9Ohqaa4GZbbSfDaw6+HIkSeq9Onr27JeBOyLiSErHNGdFxIXApyk981KSpENWR6/T/GZEVAA3AkdSutFBA3BVZn6/C+qTJKnXeDXXaS4AFkTEccBrMnNL55clSVLv86ofQp2Zz3ZmIZIk9XYHDM2IeByYm5nbIuLXQLY3NjOndWZxkiT1JkVmmj8EGlu8bzc0JUk6lB0wNDPzsy3e/02XViNJUi/W0dvoPRIRr2+jfXBEPNJpVUmS1At19OYGZwD922g/Ajj9oKuRJKkXK3T2bES0vAvQtIh4rsXnfsBZlK7XlCTpkFX0kpNaSicAJfBQG/07gSs7qyhJknqjoqE5ltJt89YCpwLPtOh7CdiSmU2dXJskSb1KodDMzCfLbzv80GpJkg4VRW5ucB7w48zcXX7frsz8UadVJklSL1NkpvkDYDiwpfy+PUnppCBJkg5JRW5u8Jq23kuSdLgxBCVJKqjoMc1CPKYpSTqUFT2mWYTHNCVJh7QOHdOUJOlwZiBKklSQ12lKklSQ12lKklSQ12lKklSQIShJUkEdDs2ImBkR90ZEbfn17VbP25Qk6ZDUodCMiAuA/wKOBx4ov4YByyLiw51fniRJvUfR52k2+zzwV5l5Y8vGiPgL4O+A73RWYZIk9TYd3T37BuBf2mj/V2DowZcjSVLv1dHQ/H/AGW20nwEsPthiJEnqzTp6w/aFwE0RUQn8stx2GnAe8DedXp0kSb3Iq71h++XlV0u3A3cedEWSJPVS3rBdkqSCDERJkgrq6CUnRMSxwDuANwL9W/Zl5uc6qS5JknqdDoVmRJwG/ARopHT5SQOlGx00AusBQ1OSdMjq6O7ZLwHfBUYCu4A/oTTjrAW+0LmlSZLUu3Q0NKcBd2RmAk3AgMzcDPw5BS85iYiPR8S6iNgVEcsj4vT9jB0TEdnG6x2txs0tr2tXRKyNiPkd3C5Jkg6oo6H5Uov3m4E/Kr/fAYw40MIR8QHgNuBG4CTgUWBhRLzxAIu+g9Ju4ObXIy3WOZbSPXAfLa/zJuD2iHhvge2RJKmwjp4IVAecAjwBLAL+LiKGAR8GHi+w/LXAtzJzQfnzleVZ4xXAX+xnua2ZuamdvvnAU5l5ZfnzbyKiCrgO+GGBmiRJKqSjM82/BJ4qv78eeIbSTQ2OYd+bHbxCRPQHTgYeatX1EPCWA/zcH0XEloj4RUSc36pvVhvr/ClQGRGvPcB6JUkqrEMzzcysbfH+GeCdHVj8OKAfpd26LW0G3tbOMjsozRh/AewBzgG+HxEXZ2bzE1WGA/+3jXVWlH/m0y07ImLv3YxGjBjBokWLABg3bhxHH3009fX1AAwZMoQpU6awZMkSACoqKpg9ezZ1dXVs374dgMrKSjZv3gy8qeD/AvUltbW17NixA4Cqqio2btxIQ0MDAJMmTaJfv36sWrUKgOHDhzN27Fiqq6sBGDhwIFVVVdTU1LBz504AZs2axbp169i0qbTTZPLkyTQ1NbF69WoARo4cyahRo6ipqQFg0KBBVFZWUl1dTWNjIwCzZ8/miSeeYMuWLQBMnTqVxsZG1qxZA8Do0aMZNmwYtbWlX9XBgwczc+ZMli5dyp49ewCYM2cOK1euZOvWrQBMnz6dF154gbVr1wIwZswYjj32WOrq6gA45phjmD59OosXLyYziQjmzp1LfX0927ZtA2DmzJk899xzrF+/Hji436cNGzYAMGHCBAYMGMCKFSsAGDp0KBMnTmTp0qUADBgwgFmzZvk9+T11+ve0P1E6p6djIuJNwInlj6syc22BZUZQukRlTmb+vEX7DcCHMvOEgj/7TmB2Zk4rf34C+HZm/m2LMXMp7T4+fj+7damsrMzmP7QH47JbD3oV6oUWXNPTFUjqCRGxPDMr2+rr6EOoh0TEvwNrgH8vv9ZExP0RMeQAiz9L6Yzb4a3ah7Lv7HN/aoAJLT5vamede4CtHVivJEn71dFjmv8IjAdOB44ov+YAY4EF+1mOzHwJWA7Ma9U1j9KZr0XN4JW7XKvZd/fuPKA2M3d3YL2SJO1XR8+ePQs4MzOrW7T9IiL+N/seV2zLV4FvR8QySscp51O6VOUugIi4CTg1M88sf74Y2A38CngZ+FPgE5SuC212F/DJiLgV+DrwVuAS4EMd3DZJkvaro6H5DPCHNtpfpMCu0Mz8fnk37vWUrrdcAZydmU+WhxzPvmfVXE/petAmSpe6XNriJCAyc11EnA3cQunSlaeAqzLTy00kSZ2qo6H5OeDWiLgwMxsAImIk8BUK3nc2M++kneduZuYlrT7fA9xTYJ2LgZlFfr4kSa/WAUMzIn4NtDzFdiywPiIayp+b70M7lNIxT0mSDklFZpo/6PIqJEnqAw4Ympn52e4oRJKk3q7DD6EGiIg/ASZT2m27MjMXdWZRkiT1Rh19CPVI4N8o3UO2+R60IyKiFjg3M59qd2FJkvq4jt7c4O8pXfoxPjNHZ+ZoSnfnaSr3SZJ0yOro7tl5wBmZua65ITPXRsRVwMOdWpkkSb1MR2ea7Xm5k9YjSVKv1dHQfBj4+4gY3dwQEW8EbsOZpiTpENfR0LwKOBJYGxFPRsR64L/LbVd1cm2SJPUqHT2muRU4Ffhj4AQgKD1Ps8jN2iVJ6tMKh2ZE9AN+D0zPzJ8BP+uyqiRJ6oUK757NzCbgSaB/15UjSVLv1dFjmn8L3BwRx3VFMZIk9WYdPaZ5HaWnnDRExEZaPVszM6d1VmGSJPU2HQ3NH1C632x0QS2SJPVqhUIzIo4EvgS8B3gtpWsyr8zMZ7uuNEmSepeixzQ/C1wC/AS4D3gb8LUuqkmSpF6p6O7Z84CPZub3ACLiu8AvIqJf+axaSZIOeUVnmqOBnzd/yMxlwB5gRFcUJUlSb1Q0NPsBL7Vq28OrfIi1JEl9UdHQC+A7EdHYou0IYEFEvNjckJnndGZxkiT1JkVD85422r7TmYVIktTbFQrNzPxIVxciSVJv11kPoZYk6ZBnaEqSVJChKUlSQYamJEkFGZqSJBVkaEqSVJChKUlSQYamJEkFGZqSJBVkaEqSVJChKUlSQYamJEkFGZqSJBVkaEqSVJChKUlSQYamJEkFGZqSJBVkaEqSVJChKUlSQYamJEkFGZqSJBVkaEqSVJChKUlSQYamJEkFGZqSJBVkaEqSVFC3h2ZEfDwi1kXErohYHhGn72fsGRFxf0Q8HREvRsTjEXFpG2OyjdcJXb81kqTDSbeGZkR8ALgNuBE4CXgUWBgRb2xnkbcAvwbOB6YCXwPujoj/1cbYKcDxLV5rOrd6SdLhrqKbf961wLcyc0H585UR8Q7gCuAvWg/OzBtbNX0tIv4YeC/wz636tmTms51dsCRJzbptphkR/YGTgYdadT1EaUZZ1GBgWxvtteXduA+Xg1WSpE7VnTPN44B+wOZW7ZuBtxVZQUS8GzgTeGuL5qcpzVT/C+gPXAg8HBFnZOaSNtZxOXA5wIgRI1i0aBEA48aN4+ijj6a+vh6AIUOGMGXKFJYsKa2ioqKC2bNnU1dXx/bt2wGorKxk8+bNwJuKlK8+pra2lh07dgBQVVXFxo0baWhoAGDSpEn069ePVatWATB8+HDGjh1LdXU1AAMHDqSqqoqamhp27twJwKxZs1i3bh2bNm0CYPLkyTQ1NbF69WoARo4cyahRo6ipqQFg0KBBVFZWUl1dTWNjIwCzZ8/miSeeYMuWLQBMnTqVxsZG1qwpHY0YPXo0w4YNo7a2FoDBgwczc+ZMli5dyp49ewCYM2cOK1euZOvWrQBMnz6dF154gbVr1wIwZswYjj32WOrq6gA45phjmD59OosXLyYziQjmzp1LfX0927aV/v06c+ZMnnvuOdavXw8c3O/Thg0bAJgwYQIDBgxgxYoVAAwdOpSJEyeydOlSAAYMGMCsWbP8nvyeOv172p/IzP0O6CwRMQJoAOZk5s9btN8AfCgz93viTkS8FVgI/Hlmfu0AYx8A9mTmOfsbV1lZmc1/aA/GZbce9CrUCy24pqcrkNQTImJ5Zla21dedJwI9CzQBw1u1D2Xf2ecrRMRsSoH51wcKzLIaYMKrKVKSpPZ0W2hm5kvAcmBeq655lM6ibVNEzKEUmJ/NzFsL/rgZlHbbSpLUabr77NmvAt+OiGXAL4D5wAjgLoCIuAk4NTPPLH8+A/gJcCfw3YhonqU2ZeYz5THXAOuBlZSOaX4YeA+lM2wlSeo03Rqamfn9iBgCXE/pWsoVwNmZ+WR5yPG88qyaS4AjgevKr2ZPAmPK7/sDXwZGAjsphee7MvOBrtkKSdLhqrtnmmTmnZRmjm31XdLG50vaGttizBeBL3ZOdZIktc97z0qSVJChKUlSQYamJEkFGZqSJBVkaEqSVJChKUlSQYamJEkFGZqSJBVkaEqSVJChKUlSQYamJEkFGZqSJBVkaEqSVJChKUlSQYamJEkFGZqSJBVkaEqSVJChKUlSQYamJEkFGZqSJBVkaEqSVJChKUlSQYamJEkFGZqSJBVkaEqSVJChKUlSQYamJEkFGZqS1Ec8+OCDTJo0ifHjx3PzzTfv05+ZXHXVVYwfP55p06ZRV1e3t+/555/n/PPP54QTTuDEE0+kuroagMcee4zTTjuNGTNmUFlZybJly7pte/oiQ1OS+oCmpiY+8YlPsHDhQlatWsV9993HqlWrXjFm4cKFrFmzhjVr1nD33XdzxRVX7O27+uqrecc73sFvf/tb6uvrOfHEEwH49Kc/zQ033MBjjz3G5z73OT796U9363b1NYamJPUBy5YtY/z48YwbN47+/fvzwQ9+kPvvv/8VY+6//34uuugiIoLTTjuN559/nqeffprt27ezZMkSPvrRjwLQv39/Xv/61wMQEWzfvh2A3//+94wYMaJbt6uvqejpAiRJB9bQ0MDo0aP3fh41ahQ1NTUHHNPQ0EBFRQVveMMb+MhHPkJ9fT0nn3wyt912G0cddRS33norZ511Ftdddx0vv/wyjz76aLdtU1/kTFOS+oDM3KctIgqN2bNnD3V1dVxxxRX86le/4qijjtp7TPRrX/sat9xyCxs2bOCWW27ZOxtV2wxNSeoDRo0axYYNG/Z+3rhx4z67UtsbM2rUKEaNGkVVVRUA559//t6ThO655x7OO+88AN73vvd5ItABGJqS1AeccsoprFmzhnXr1vHSSy/xve99j3POOecVY8455xzuvfdeMpNf/vKXvO51r+P4449n+PDhjB49mtWrVwPw8MMPM3nyZABGjBjB4sWLAXjkkUeYMGFC925YH+MxTUnqAyoqKrjjjjs466yzaGpq4tJLL2XKlCncddddAMyfP5+zzz6bBx54gPHjx3PkkUfyzW9+c+/yt99+OxdccAEvvfQS48aN29u3YMECrr76avbs2cMRRxzB3Xff3SPb11dEW/vADxeVlZVZW1t70Ou57NaDr0W9z4JreroCST0hIpZnZmVbfe6elSSpIHfPSjrsuHfo0NQde4ecaUqSVJChKUlSQYamJEkFGZqSJBVkaEqSVJChKUlSQYamJEkFGZqSJBVkaEqSVJChKUlSQYamJEkFdXtoRsTHI2JdROyKiOURcfoBxr85IhZHxM6IaIiIv45WjyuPiLnlde2KiLURMb9rt0KSdDjq1tCMiA8AtwE3AicBjwILI+KN7YwfDPwM2AycAlwFfAq4tsWYscAD5XWdBNwE3B4R7+26LZEkHY66e6Z5LfCtzFyQmb/JzCuBp4Er2hl/AXAkcHFmrsjMHwJfAK5tMducDzyVmVeW17kAuAe4rms3RZJ0uOm20IyI/sDJwEOtuh4C3tLOYrOAn2fmzhZtPwVGAGNajGm9zp8ClRHx2oOpWZKklrpzpnkc0I/SrtaWNgPD21lmeDvjm/v2N6ai/DMlSeoUPfEQ6mz1OdpoO9D41u1FxpQ6Ii4HLi9/3BERq/fzs7Wv44Bne7qI7vCPf9bTFUidwt/Zjvuj9jq6MzSfBZrYd1Y5lH1nis02tTOeFsu0N2YPsLX1CjPzbuDuYiWrtYiozczKnq5DUjH+znaubts9m5kvAcuBea265lE687Ut1cDpEXFEq/FPAetbjHlbG+uszczdB1OzJEktdffZs18FLomIj0XEiRFxG6WTeu4CiIibIuLhFuP/GXgR+FZETI2I84DPAF/NzOZdr3cBoyLi1vI6PwZcAny5m7ZJknSY6NZjmpn5/YgYAlwPHA+sAM7OzCfLQ44H3tRi/O8jYh7wD0AtsA34CqXwbR6zLiLOBm6hdOnKU8BV5ctT1PnctS31Lf7OdqL4nwmbJEnaH+89K0lSQYamJEkFGZqSJBVkaOqAImJCRAzr6Tokqad5IpDaFBFDgQuBPwOeoXSziKeBHwA/zMw/9GB5ktQjDE21KSK+BUwG/pPSnZWGADOAE4GNwBcz82c9VZ+kfZUfp/hC+hd7lzE0tY/yY9deoHQN7ZIWbaOBKuAySvdm/EBmPtZTdUp6pYj4OrCs/HoyM7e3MWZIZu5zi1EV4zFNtWUysA54qbkhS36Xmf8KvJtSqH6gh+qT1EpEfIjSP2i/AtwPfCkizo2IN0XEwPKYgcA3IuLNPVhqn+ZMU/so/2L9J6UHgF8E/HdmvtxqzJXARzNzRvdXKKm1iFhA6aEYXwTOAy6mdIe11cADwMPAJOC2zOzfU3X2dc40tY/yQ7//EhgI3AtcFBGjI+IogIg4EphL6TaIknpYRFRQ2jv0fGauzcwvZ+abgVOAxZQC9F+A24Fv91ylfZ8zTbUrIqYCfwWcA/yB0hNlnqH0VJmngY9l5q97rkJJzSLiGGBYZv42IvoDu1ueEBQRHwDuA2Z6LsKrZ2jqgMqXn7wLeA+wi9IM818z87c9WZek/YuI11D6e74pIi6jtGv2yJ6uqy8zNNUhEfGa1sc3JfV+EXEt0C8zv9TTtfRlhqYkHQYi4rVAk//oPTiGpiRJBXn2rCRJBRmakiQVZGhKklSQoSlJUkGGpiRJBRmakiQV9P8BHoh7C5+KYiMAAAAASUVORK5CYII=\n",
      "text/plain": [
       "<Figure size 504x360 with 1 Axes>"
      ]
     },
     "execution_count": 54,
     "metadata": {},
     "output_type": "execute_result"
    }
   ],
   "source": [
    "exp_result = job.result()\n",
    "exp_counts = exp_result.get_counts(qc)\n",
    "print(exp_counts)\n",
    "plot_histogram(exp_counts)"
   ]
  },
  {
   "cell_type": "markdown",
   "id": "a438e2e0-4d0f-425c-be80-2b9de79e3f84",
   "metadata": {},
   "source": [
    "As we see here, there are a few results in which we measured $|1\\rangle$. These arise due to errors in the gates and the qubits. In contrast, our simulator in the earlier part of the notebook had zero errors in its gates, and allowed error-free teleportation."
   ]
  },
  {
   "cell_type": "code",
   "execution_count": 55,
   "id": "cae56008-b879-4cce-8950-aca08613e202",
   "metadata": {},
   "outputs": [
    {
     "name": "stdout",
     "output_type": "stream",
     "text": [
      "The experimental error rate : 6.836%\n"
     ]
    }
   ],
   "source": [
    "print(f\"The experimental error rate : {exp_counts['1']*100/sum(exp_counts.values()):.3f}%\")\n",
    "\n",
    "\n"
   ]
  },
  {
   "cell_type": "markdown",
   "id": "5e07ea9d-8b83-40b8-afa5-c200389188f2",
   "metadata": {},
   "source": [
    "We are seeing a little error because this is real result from real calculation in **Quantum Computer**"
   ]
  },
  {
   "cell_type": "code",
   "execution_count": null,
   "id": "bbb97d42-f138-4ecb-a94d-35116ca4ab08",
   "metadata": {},
   "outputs": [],
   "source": []
  }
 ],
 "metadata": {
  "kernelspec": {
   "display_name": "Python 3 (ipykernel)",
   "language": "python",
   "name": "python3"
  },
  "language_info": {
   "codemirror_mode": {
    "name": "ipython",
    "version": 3
   },
   "file_extension": ".py",
   "mimetype": "text/x-python",
   "name": "python",
   "nbconvert_exporter": "python",
   "pygments_lexer": "ipython3",
   "version": "3.9.5"
  },
  "widgets": {
   "application/vnd.jupyter.widget-state+json": {
    "state": {
     "02c826b936ed4b15b5b3fcd3cc94881a": {
      "model_module": "@jupyter-widgets/controls",
      "model_module_version": "1.5.0",
      "model_name": "GridBoxModel",
      "state": {
       "children": [
        "IPY_MODEL_9daf9d3b2323404d95672c9c35b7ec79"
       ],
       "layout": "IPY_MODEL_38f9f13ae5ed495198f784181d57e803"
      }
     },
     "159c5422768542ab89db6b2dad130833": {
      "model_module": "@jupyter-widgets/controls",
      "model_module_version": "1.5.0",
      "model_name": "HTMLModel",
      "state": {
       "layout": "IPY_MODEL_d6830836fb2c47cd9c28c55c2e6f8206",
       "style": "IPY_MODEL_540e259ff02e436e9d20fce087b4cc21",
       "value": "<h5>Message</h5>"
      }
     },
     "23028afed85841eda7a6d00f240a456d": {
      "model_module": "@jupyter-widgets/base",
      "model_module_version": "1.2.0",
      "model_name": "LayoutModel",
      "state": {
       "grid_area": "right",
       "padding": "0px 0px 0px 0px",
       "width": "70px"
      }
     },
     "271be68c419a40d7bd50396e65f2720a": {
      "model_module": "@jupyter-widgets/controls",
      "model_module_version": "1.5.0",
      "model_name": "DescriptionStyleModel",
      "state": {
       "description_width": ""
      }
     },
     "38f9f13ae5ed495198f784181d57e803": {
      "model_module": "@jupyter-widgets/base",
      "model_module_version": "1.2.0",
      "model_name": "LayoutModel",
      "state": {
       "grid_template_areas": "\n                                       \". . . . right \"\n                                        ",
       "grid_template_columns": "20% 20% 20% 20% 20%",
       "width": "100%"
      }
     },
     "3f2ac4f16e224146bcc7b010e54f0286": {
      "model_module": "@jupyter-widgets/controls",
      "model_module_version": "1.5.0",
      "model_name": "HTMLModel",
      "state": {
       "layout": "IPY_MODEL_fa409635452e4362b730a569e8d9df99",
       "style": "IPY_MODEL_81a1128320874ab093c3e8ade8ebee02",
       "value": "<h5>Job ID</h5>"
      }
     },
     "540e259ff02e436e9d20fce087b4cc21": {
      "model_module": "@jupyter-widgets/controls",
      "model_module_version": "1.5.0",
      "model_name": "DescriptionStyleModel",
      "state": {
       "description_width": ""
      }
     },
     "55b3c752925148c2bc000e2a06df9a79": {
      "model_module": "@jupyter-widgets/controls",
      "model_module_version": "1.5.0",
      "model_name": "DescriptionStyleModel",
      "state": {
       "description_width": ""
      }
     },
     "5b02531377e74a99a7bfce67f9955350": {
      "model_module": "@jupyter-widgets/controls",
      "model_module_version": "1.5.0",
      "model_name": "HTMLModel",
      "state": {
       "layout": "IPY_MODEL_d0fe9b17046e45148b8f2eb177233b36",
       "style": "IPY_MODEL_55b3c752925148c2bc000e2a06df9a79",
       "value": "<h5>Status</h5>"
      }
     },
     "6e7b509db92140d2a5084209f2c22ac7": {
      "model_module": "@jupyter-widgets/base",
      "model_module_version": "1.2.0",
      "model_name": "LayoutModel",
      "state": {
       "margin": "0px 0px 0px 37px",
       "width": "600px"
      }
     },
     "81a1128320874ab093c3e8ade8ebee02": {
      "model_module": "@jupyter-widgets/controls",
      "model_module_version": "1.5.0",
      "model_name": "DescriptionStyleModel",
      "state": {
       "description_width": ""
      }
     },
     "85f0593880d543d1bc278922937d8ab5": {
      "model_module": "@jupyter-widgets/base",
      "model_module_version": "1.2.0",
      "model_name": "LayoutModel",
      "state": {
       "margin": "0px 0px 10px 0px"
      }
     },
     "8755cc5ed66f46978d97bd7caac7d887": {
      "model_module": "@jupyter-widgets/controls",
      "model_module_version": "1.5.0",
      "model_name": "HTMLModel",
      "state": {
       "layout": "IPY_MODEL_e91311ccb4a44a028e4fb41b926cec85",
       "style": "IPY_MODEL_a3d5d2ec4ad34da0948b7704a8b0e5ef",
       "value": "<h5>Backend</h5>"
      }
     },
     "97f381a9f26e489485a0912213b58204": {
      "model_module": "@jupyter-widgets/controls",
      "model_module_version": "1.5.0",
      "model_name": "HBoxModel",
      "state": {
       "children": [
        "IPY_MODEL_3f2ac4f16e224146bcc7b010e54f0286",
        "IPY_MODEL_8755cc5ed66f46978d97bd7caac7d887",
        "IPY_MODEL_5b02531377e74a99a7bfce67f9955350",
        "IPY_MODEL_d524dc5a839b47dba4f8d86661837d35",
        "IPY_MODEL_159c5422768542ab89db6b2dad130833"
       ],
       "layout": "IPY_MODEL_6e7b509db92140d2a5084209f2c22ac7"
      }
     },
     "9d129b9e76c84cfa8436a5a7adab599f": {
      "model_module": "@jupyter-widgets/controls",
      "model_module_version": "1.5.0",
      "model_name": "ButtonStyleModel",
      "state": {}
     },
     "9daf9d3b2323404d95672c9c35b7ec79": {
      "model_module": "@jupyter-widgets/controls",
      "model_module_version": "1.5.0",
      "model_name": "ButtonModel",
      "state": {
       "button_style": "primary",
       "description": "Clear",
       "layout": "IPY_MODEL_23028afed85841eda7a6d00f240a456d",
       "style": "IPY_MODEL_9d129b9e76c84cfa8436a5a7adab599f"
      }
     },
     "a3d5d2ec4ad34da0948b7704a8b0e5ef": {
      "model_module": "@jupyter-widgets/controls",
      "model_module_version": "1.5.0",
      "model_name": "DescriptionStyleModel",
      "state": {
       "description_width": ""
      }
     },
     "aa9b3c442c7643e591e11e84df25953c": {
      "model_module": "@jupyter-widgets/base",
      "model_module_version": "1.2.0",
      "model_name": "LayoutModel",
      "state": {
       "width": "70px"
      }
     },
     "ac36f0daa5624b06a74eef98220704b5": {
      "model_module": "@jupyter-widgets/controls",
      "model_module_version": "1.5.0",
      "model_name": "HTMLModel",
      "state": {
       "layout": "IPY_MODEL_85f0593880d543d1bc278922937d8ab5",
       "style": "IPY_MODEL_f44f3d8c6688477997eabdc08c067aab",
       "value": "<p style='font-family: IBM Plex Sans, Arial, Helvetica, sans-serif; font-size: 20px; font-weight: medium;'>Circuit Properties</p>"
      }
     },
     "d0fe9b17046e45148b8f2eb177233b36": {
      "model_module": "@jupyter-widgets/base",
      "model_module_version": "1.2.0",
      "model_name": "LayoutModel",
      "state": {
       "width": "95px"
      }
     },
     "d524dc5a839b47dba4f8d86661837d35": {
      "model_module": "@jupyter-widgets/controls",
      "model_module_version": "1.5.0",
      "model_name": "HTMLModel",
      "state": {
       "layout": "IPY_MODEL_aa9b3c442c7643e591e11e84df25953c",
       "style": "IPY_MODEL_271be68c419a40d7bd50396e65f2720a",
       "value": "<h5>Queue</h5>"
      }
     },
     "d6830836fb2c47cd9c28c55c2e6f8206": {
      "model_module": "@jupyter-widgets/base",
      "model_module_version": "1.2.0",
      "model_name": "LayoutModel",
      "state": {}
     },
     "e91311ccb4a44a028e4fb41b926cec85": {
      "model_module": "@jupyter-widgets/base",
      "model_module_version": "1.2.0",
      "model_name": "LayoutModel",
      "state": {
       "width": "145px"
      }
     },
     "f44f3d8c6688477997eabdc08c067aab": {
      "model_module": "@jupyter-widgets/controls",
      "model_module_version": "1.5.0",
      "model_name": "DescriptionStyleModel",
      "state": {
       "description_width": ""
      }
     },
     "fa409635452e4362b730a569e8d9df99": {
      "model_module": "@jupyter-widgets/base",
      "model_module_version": "1.2.0",
      "model_name": "LayoutModel",
      "state": {
       "width": "190px"
      }
     }
    },
    "version_major": 2,
    "version_minor": 0
   }
  }
 },
 "nbformat": 4,
 "nbformat_minor": 5
}
